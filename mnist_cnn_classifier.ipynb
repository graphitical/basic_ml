{
 "cells": [
  {
   "cell_type": "markdown",
   "metadata": {},
   "source": [
    "# MNIST CNN CLASSFIER\n",
    "This notebook demonstrates the classification of MNIST written numeral data using a simple convolution neural network (CNN).\n",
    "\n",
    "This notebook specifically uses the Keras API for Tensorflow so as to help understand how models are built using Keras.\n",
    "\n",
    "This notebook is being used to:\n",
    "1. Understand the Keras API\n",
    "2. Understand classification\n",
    "3. Understand deep learning in general\n",
    "\n",
    "For this reason if there is something incorrect or you think could be done better please let me know. I make no claim that everything in her is correct, but I do try my best."
   ]
  },
  {
   "cell_type": "markdown",
   "metadata": {},
   "source": [
    "# Import modules and important packages"
   ]
  },
  {
   "cell_type": "code",
   "execution_count": 1,
   "metadata": {},
   "outputs": [
    {
     "name": "stdout",
     "output_type": "stream",
     "text": [
      "1.12.0\n"
     ]
    }
   ],
   "source": [
    "import tensorflow as tf\n",
    "print(tf.__version__)\n",
    "tf.reset_default_graph()\n",
    "\n",
    "from tensorflow.keras.models import Sequential, Model\n",
    "from tensorflow.keras.layers import Dense, Dropout, Activation, Flatten, Reshape, Input, Lambda\n",
    "from tensorflow.keras.layers import Conv2D, Conv2DTranspose\n",
    "from tensorflow.keras import backend as K\n",
    "from tensorflow.keras.utils import plot_model\n",
    "\n",
    "import numpy as np\n",
    "import matplotlib.pyplot as plt\n",
    "%matplotlib inline"
   ]
  },
  {
   "cell_type": "markdown",
   "metadata": {},
   "source": [
    "# Import Data\n",
    "Here we import the data using the Keras provided MNIST dataset.\n",
    "We then select a random image in the training dataset to demonstrate the need for normalizing the data between 0 and 1 rather than 0 and 255."
   ]
  },
  {
   "cell_type": "code",
   "execution_count": 2,
   "metadata": {},
   "outputs": [
    {
     "data": {
      "image/png": "[encoded data removed]",
      "text/plain": [
       "<Figure size 720x720 with 4 Axes>"
      ]
     },
     "metadata": {
      "needs_background": "light"
     },
     "output_type": "display_data"
    }
   ],
   "source": [
    "(X_train, Y_train), (X_test, Y_test) = tf.keras.datasets.mnist.load_data()\n",
    "img_index = np.random.randint(0,X_train.shape[0]-1)\n",
    "\n",
    "# Raw data\n",
    "plt.figure(figsize=(10,10))\n",
    "plt.subplot(211)\n",
    "plt.imshow(X_train[img_index])\n",
    "plt.title('Raw Data for Image: ' + str(img_index) + ' (' + str(Y_train[img_index]) + ')') #str(Y_train[img_index])')')\n",
    "plt.colorbar()\n",
    "\n",
    "# Processed data\n",
    "X_train = X_train.astype('float32') / 255\n",
    "X_test = X_test.astype('float32') / 255\n",
    "plt.subplot(212)\n",
    "plt.title('Normalized Data for Image: ' + str(img_index) + ' (' + str(Y_train[img_index]) + ')') #str(Y_train[img_index])')')\n",
    "plt.imshow(X_train[img_index])\n",
    "plt.colorbar()\n",
    "\n",
    "# Reshaping data\n",
    "image_size = X_train.shape[1]\n",
    "X_train = np.reshape(X_train, [-1, image_size, image_size, 1])\n",
    "X_test  = np.reshape(X_test,  [-1, image_size, image_size, 1])"
   ]
  },
  {
   "cell_type": "code",
   "execution_count": 3,
   "metadata": {
    "scrolled": false
   },
   "outputs": [
    {
     "name": "stdout",
     "output_type": "stream",
     "text": [
      "Size of data before encoding: (60000,)\n",
      "Size of data after encoding (60000, 10):\n",
      "Size of data before encoding: (10000,)\n",
      "Size of data after encoding (10000, 10):\n"
     ]
    }
   ],
   "source": [
    "def encode(data):\n",
    "    print('Size of data before encoding: %s' %str(data.shape))\n",
    "    encoded = tf.keras.utils.to_categorical(data)\n",
    "    print('Size of data after encoding %s:'%str(encoded.shape))\n",
    "    return encoded\n",
    "\n",
    "Y_encode_train = encode(Y_train)\n",
    "Y_encode_test = encode(Y_test)"
   ]
  },
  {
   "cell_type": "markdown",
   "metadata": {},
   "source": [
    "# Control variables\n"
   ]
  },
  {
   "cell_type": "code",
   "execution_count": 4,
   "metadata": {},
   "outputs": [],
   "source": [
    "# n_latent: The number of latent variables to map to in the encoder network. \n",
    "# original_dim: Length of vector for image data\n",
    "# intermediate_dim: Length of hidden layer\n",
    "# n_latent = 2\n",
    "input_shape = (image_size, image_size, 1)\n",
    "epochs = 10\n",
    "batch = 128\n",
    "filters = 16\n",
    "kernel_size = 3"
   ]
  },
  {
   "cell_type": "markdown",
   "metadata": {},
   "source": [
    "# CLASSIFIER"
   ]
  },
  {
   "cell_type": "code",
   "execution_count": 5,
   "metadata": {
    "scrolled": true
   },
   "outputs": [],
   "source": [
    "inputs = Input(shape=input_shape, name='input')\n",
    "x = inputs\n",
    "for i in range(2):\n",
    "    filters *= 2\n",
    "    x = Conv2D(filters=filters,\n",
    "              kernel_size=kernel_size,\n",
    "              activation='relu',\n",
    "              strides=2,\n",
    "              padding='same')(x)\n",
    "\n",
    "x = Flatten()(x)\n",
    "outputs = Dense(10, activation='softmax')(x)\n",
    "\n",
    "classifier = Model(inputs, outputs, name='classifier')\n",
    "plot_model(classifier, to_file='mnis_cnn_classifier.png', show_shapes=True)"
   ]
  },
  {
   "cell_type": "markdown",
   "metadata": {
    "scrolled": true
   },
   "source": [
    "# Compile Model\n",
    "\n"
   ]
  },
  {
   "cell_type": "code",
   "execution_count": 6,
   "metadata": {
    "scrolled": false
   },
   "outputs": [
    {
     "name": "stdout",
     "output_type": "stream",
     "text": [
      "_________________________________________________________________\n",
      "Layer (type)                 Output Shape              Param #   \n",
      "=================================================================\n",
      "input (InputLayer)           (None, 28, 28, 1)         0         \n",
      "_________________________________________________________________\n",
      "conv2d (Conv2D)              (None, 14, 14, 32)        320       \n",
      "_________________________________________________________________\n",
      "conv2d_1 (Conv2D)            (None, 7, 7, 64)          18496     \n",
      "_________________________________________________________________\n",
      "flatten (Flatten)            (None, 3136)              0         \n",
      "_________________________________________________________________\n",
      "dense (Dense)                (None, 10)                31370     \n",
      "=================================================================\n",
      "Total params: 50,186\n",
      "Trainable params: 50,186\n",
      "Non-trainable params: 0\n",
      "_________________________________________________________________\n"
     ]
    }
   ],
   "source": [
    "classifier.compile(optimizer='adam',loss='binary_crossentropy')\n",
    "classifier.summary()\n"
   ]
  },
  {
   "cell_type": "markdown",
   "metadata": {},
   "source": [
    "# Training"
   ]
  },
  {
   "cell_type": "code",
   "execution_count": 7,
   "metadata": {
    "scrolled": false
   },
   "outputs": [
    {
     "name": "stdout",
     "output_type": "stream",
     "text": [
      "Train on 60000 samples, validate on 10000 samples\n",
      "Epoch 1/10\n",
      "60000/60000 [==============================] - 9s 152us/step - loss: 0.0546 - val_loss: 0.0198\n",
      "Epoch 2/10\n",
      "60000/60000 [==============================] - 4s 69us/step - loss: 0.0182 - val_loss: 0.0131\n",
      "Epoch 3/10\n",
      "60000/60000 [==============================] - 4s 70us/step - loss: 0.0128 - val_loss: 0.0125\n",
      "Epoch 4/10\n",
      "60000/60000 [==============================] - 4s 69us/step - loss: 0.0104 - val_loss: 0.0096\n",
      "Epoch 5/10\n",
      "60000/60000 [==============================] - 4s 70us/step - loss: 0.0089 - val_loss: 0.0091\n",
      "Epoch 6/10\n",
      "60000/60000 [==============================] - 4s 70us/step - loss: 0.0078 - val_loss: 0.0091\n",
      "Epoch 7/10\n",
      "60000/60000 [==============================] - 4s 71us/step - loss: 0.0067 - val_loss: 0.0100\n",
      "Epoch 8/10\n",
      "60000/60000 [==============================] - 4s 72us/step - loss: 0.0059 - val_loss: 0.0088\n",
      "Epoch 9/10\n",
      "60000/60000 [==============================] - 4s 69us/step - loss: 0.0051 - val_loss: 0.0087\n",
      "Epoch 10/10\n",
      "60000/60000 [==============================] - 4s 68us/step - loss: 0.0046 - val_loss: 0.0084\n"
     ]
    }
   ],
   "source": [
    "classifier.fit(X_train,\n",
    "               Y_encode_train,\n",
    "            epochs=epochs,\n",
    "            batch_size=batch,\n",
    "            validation_data=(X_test, Y_encode_test))\n",
    "\n",
    "classifier.save_weights('mnist_cnn_classifier.h5')"
   ]
  },
  {
   "cell_type": "markdown",
   "metadata": {},
   "source": [
    "# PREDICT\n",
    "\n",
    "Here we try to predict the values in an image"
   ]
  },
  {
   "cell_type": "code",
   "execution_count": 10,
   "metadata": {},
   "outputs": [
    {
     "name": "stdout",
     "output_type": "stream",
     "text": [
      "3\n",
      "3\n"
     ]
    },
    {
     "data": {
      "text/plain": [
       "<matplotlib.image.AxesImage at 0x261c47b8780>"
      ]
     },
     "execution_count": 10,
     "metadata": {},
     "output_type": "execute_result"
    },
    {
     "data": {
      "image/png": "[encoded data removed]",
      "text/plain": [
       "<Figure size 432x288 with 1 Axes>"
      ]
     },
     "metadata": {
      "needs_background": "light"
     },
     "output_type": "display_data"
    }
   ],
   "source": [
    "img_index = np.random.randint(0,X_train.shape[0]-1)\n",
    "random_image = X_train[img_index]\n",
    "random_image = np.reshape(random_image, (1, 28, 28, 1))\n",
    "pred_val = classifier.predict(random_image)\n",
    "print(Y_train[img_index])\n",
    "\n",
    "\n",
    "print(np.argmax(pred_val))\n",
    "random_image = np.reshape(random_image, (28, 28))\n",
    "\n",
    "plt.imshow(random_image)\n"
   ]
  },
  {
   "cell_type": "code",
   "execution_count": null,
   "metadata": {},
   "outputs": [],
   "source": []
  }
 ],
 "metadata": {
  "kernelspec": {
   "display_name": "Python 3",
   "language": "python",
   "name": "python3"
  },
  "language_info": {
   "codemirror_mode": {
    "name": "ipython",
    "version": 3
   },
   "file_extension": ".py",
   "mimetype": "text/x-python",
   "name": "python",
   "nbconvert_exporter": "python",
   "pygments_lexer": "ipython3",
   "version": "3.6.8"
  }
 },
 "nbformat": 4,
 "nbformat_minor": 2
}
